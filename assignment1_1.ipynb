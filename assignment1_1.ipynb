{
  "nbformat": 4,
  "nbformat_minor": 0,
  "metadata": {
    "colab": {
      "provenance": []
    },
    "kernelspec": {
      "name": "python3",
      "display_name": "Python 3"
    },
    "language_info": {
      "name": "python"
    }
  },
  "cells": [
    {
      "cell_type": "code",
      "execution_count": 23,
      "metadata": {
        "colab": {
          "base_uri": "https://localhost:8080/"
        },
        "id": "3lvAWOh4ydvT",
        "outputId": "46a0445b-48c8-4e3f-a9f4-12b87a170d0f"
      },
      "outputs": [
        {
          "output_type": "stream",
          "name": "stdout",
          "text": [
            "[1, 2, 3, 4, 5, 6, 7, 8]\n",
            "<class 'numpy.ndarray'>\n",
            "[ 5 12 21 32]\n",
            "[5. 5. 5.]\n",
            "[ 1  4  9 16]\n",
            "Addition of Two: [1, 2, 3, 4, 5, 6, 7, 8]\n",
            "[ 0.84147098  0.90929743  0.14112001 -0.7568025 ]\n",
            "[0.         0.69314718 1.09861229 1.38629436]\n",
            "[0.        1.        1.5849625 2.       ]\n",
            "[ 2.71828183  7.3890561  20.08553692 54.59815003]\n"
          ]
        }
      ],
      "source": [
        "import numpy as np\n",
        "# list and arrays\n",
        "l1=[1,2,3,4]\n",
        "l2=[5,6,7,8]\n",
        "l3=[5,10,15]\n",
        "l4=[1,2,3]\n",
        "print(l1+l2)\n",
        "a=np.array(l1)\n",
        "b=np.array(l2)\n",
        "c=np.array(l3)\n",
        "d=np.array(l4)\n",
        "\n",
        "\n",
        "\n",
        "# type\n",
        "print(type(a))\n",
        "\n",
        "\n",
        "\n",
        "#mathematical operations\n",
        "print(np.multiply(a,b))\n",
        "print(np.divide(c,d))\n",
        "print(np.power(a,2))\n",
        "\n",
        "\n",
        "\n",
        "#combine text\n",
        "print(\"Addition of Two:\",l1+l2)\n",
        "\n",
        "\n",
        "\n",
        "#Implement np.sin(), log(), log2(), np.exp())\n",
        "print(np.sin(a))\n",
        "print(np.log(a))\n",
        "print(np.log2(a))\n",
        "print(np.exp(a))"
      ]
    }
  ]
}